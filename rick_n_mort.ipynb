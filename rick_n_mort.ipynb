{
  "nbformat": 4,
  "nbformat_minor": 0,
  "metadata": {
    "colab": {
      "provenance": [],
      "authorship_tag": "ABX9TyMgZbrNgYK7dC2ae4HRC+bK",
      "include_colab_link": true
    },
    "kernelspec": {
      "name": "python3",
      "display_name": "Python 3"
    },
    "language_info": {
      "name": "python"
    }
  },
  "cells": [
    {
      "cell_type": "markdown",
      "metadata": {
        "id": "view-in-github",
        "colab_type": "text"
      },
      "source": [
        "<a href=\"https://colab.research.google.com/github/dmorton714/api_class_demo/blob/main/rick_n_mort.ipynb\" target=\"_parent\"><img src=\"https://colab.research.google.com/assets/colab-badge.svg\" alt=\"Open In Colab\"/></a>"
      ]
    },
    {
      "cell_type": "code",
      "execution_count": null,
      "metadata": {
        "id": "Ok7UO36u3oAW"
      },
      "outputs": [],
      "source": [
        "import pandas as pd\n",
        "import requests\n",
        "import json\n",
        "import numpy as np\n"
      ]
    },
    {
      "cell_type": "markdown",
      "source": [
        "site url: https://rickandmortyapi.com/documentation/"
      ],
      "metadata": {
        "id": "ccnSxFd9feId"
      }
    },
    {
      "cell_type": "code",
      "source": [
        "# url = 'https://rickandmortyapi.com/api'\n",
        "url = 'https://rickandmortyapi.com/api/character'"
      ],
      "metadata": {
        "id": "_YtyWit534YA"
      },
      "execution_count": null,
      "outputs": []
    },
    {
      "cell_type": "code",
      "source": [
        "requests.get(url)"
      ],
      "metadata": {
        "colab": {
          "base_uri": "https://localhost:8080/"
        },
        "id": "JWzICtmVQ9Y6",
        "outputId": "c2069dda-0213-4c8a-e825-a1524f6ee1bf"
      },
      "execution_count": null,
      "outputs": [
        {
          "output_type": "execute_result",
          "data": {
            "text/plain": [
              "<Response [200]>"
            ]
          },
          "metadata": {},
          "execution_count": 52
        }
      ]
    },
    {
      "cell_type": "code",
      "source": [
        "r = requests.get(url)"
      ],
      "metadata": {
        "id": "Vp3MBFa_Qu2b"
      },
      "execution_count": null,
      "outputs": []
    },
    {
      "cell_type": "code",
      "source": [
        "json = r.json()"
      ],
      "metadata": {
        "id": "FsgUvpWnQvCH"
      },
      "execution_count": null,
      "outputs": []
    },
    {
      "cell_type": "code",
      "source": [
        "json.keys()"
      ],
      "metadata": {
        "colab": {
          "base_uri": "https://localhost:8080/"
        },
        "id": "oHZ4oyRZQ23j",
        "outputId": "4f3d27d5-f273-40c4-f08d-de92ecdd83c1"
      },
      "execution_count": null,
      "outputs": [
        {
          "output_type": "execute_result",
          "data": {
            "text/plain": [
              "dict_keys(['info', 'results'])"
            ]
          },
          "metadata": {},
          "execution_count": 55
        }
      ]
    },
    {
      "cell_type": "code",
      "source": [
        "json['info']"
      ],
      "metadata": {
        "colab": {
          "base_uri": "https://localhost:8080/"
        },
        "id": "Kr0hqmuYVkb5",
        "outputId": "b7b2195f-6eb7-4c2f-9932-d15c60d75c25"
      },
      "execution_count": null,
      "outputs": [
        {
          "output_type": "execute_result",
          "data": {
            "text/plain": [
              "{'count': 826,\n",
              " 'pages': 42,\n",
              " 'next': 'https://rickandmortyapi.com/api/character?page=2',\n",
              " 'prev': None}"
            ]
          },
          "metadata": {},
          "execution_count": 56
        }
      ]
    },
    {
      "cell_type": "code",
      "source": [
        "# json['results']"
      ],
      "metadata": {
        "id": "AVuvNsw2VpsJ"
      },
      "execution_count": null,
      "outputs": []
    },
    {
      "cell_type": "code",
      "source": [
        "df = pd.json_normalize(json, ['results'])"
      ],
      "metadata": {
        "id": "dbplNNdkRJ7J"
      },
      "execution_count": null,
      "outputs": []
    },
    {
      "cell_type": "code",
      "source": [
        "df.shape"
      ],
      "metadata": {
        "colab": {
          "base_uri": "https://localhost:8080/"
        },
        "id": "NnONvuhFTxim",
        "outputId": "038fee31-172d-44e3-e2fd-2d23e6c8b0f8"
      },
      "execution_count": null,
      "outputs": [
        {
          "output_type": "execute_result",
          "data": {
            "text/plain": [
              "(20, 14)"
            ]
          },
          "metadata": {},
          "execution_count": 59
        }
      ]
    },
    {
      "cell_type": "code",
      "source": [
        "url = 'https://rickandmortyapi.com/api/character'\n",
        "results = []\n",
        "page = 1\n",
        "\n",
        "while True:\n",
        "    response = requests.get(f'{url}?page={page}')\n",
        "    data = response.json()\n",
        "\n",
        "    if 'results' in data and len(data['results']) > 0:\n",
        "        results.extend(data['results'])\n",
        "        page += 1\n",
        "    else:\n",
        "        break\n",
        "\n",
        "df = pd.DataFrame(results)\n",
        "df.shape"
      ],
      "metadata": {
        "colab": {
          "base_uri": "https://localhost:8080/"
        },
        "id": "GYsolvG5XD5C",
        "outputId": "26d32453-b982-4515-a7b6-b39e7cbcc694"
      },
      "execution_count": null,
      "outputs": [
        {
          "output_type": "execute_result",
          "data": {
            "text/plain": [
              "(826, 12)"
            ]
          },
          "metadata": {},
          "execution_count": 60
        }
      ]
    },
    {
      "cell_type": "markdown",
      "source": [
        "- we defined the base ```URL``` of the Rick and Morty API for retrieving character information.\n",
        "\n",
        "\n",
        "-  ```results = []``` initializes an empty list called results where we will store the character information obtained from the API.\n",
        "\n",
        "\n",
        "-   ```page = 1``` initializes a variable called page with the value 1. This variable will be used to keep track of the page number we're requesting from the API.\n",
        "\n",
        "-  ```While True:``` starts an infinite loop. The loop will continue until explicitly broken using the break statement.\n",
        "\n",
        "\n",
        "- ```response = requests.get(f'{url}?page={page}')```, sends an HTTP GET request to the API using the specified URL along with the page parameter. The page parameter is used to request different pages of character data.\n",
        "\n",
        "\n",
        "- ```data = response.json()``` extracts the JSON data from the HTTP response and stores it in the variable data.\n",
        "\n",
        "\n",
        "- ```if 'results' in data and len(data['results']) > 0:``` checks if the 'results' key is present in the data dictionary and if the 'results' list is not empty. If both conditions are met, it means there are character results on this page.\n",
        "\n",
        "\n",
        "- ```results.extend(data['results'])``` extends the results list with the character information obtained from the current page's 'results'.\n",
        "\n",
        "\n",
        "- ```page += 1``` increments the page variable by 1, preparing it for the next page's data retrieval.\n",
        "\n",
        "\n",
        "- ```else:``` If the 'results' key is not in the data dictionary or the 'results' list is empty, this part of the code is executed.\n",
        "\n",
        "\n",
        "- ```break``` The break statement ends the loop, as there are no more results to retrieve.\n",
        "\n",
        "\n",
        "- ```df = pd.DataFrame(results)``` After collecting all the character information, this line converts the results list into a Pandas DataFrame named df.\n",
        "\n",
        "\n",
        "- ```df.shape``` This retrieves the shape of the DataFrame df, which is a tuple representing the number of rows and columns in the DataFrame."
      ],
      "metadata": {
        "id": "kSaW2hYgdq1u"
      }
    },
    {
      "cell_type": "code",
      "source": [
        "df.head()"
      ],
      "metadata": {
        "colab": {
          "base_uri": "https://localhost:8080/",
          "height": 431
        },
        "id": "-ucFL8k9enKk",
        "outputId": "50e345c1-325d-418c-ffc1-cc7c8f69ba44"
      },
      "execution_count": null,
      "outputs": [
        {
          "output_type": "execute_result",
          "data": {
            "text/plain": [
              "   id          name status species type  gender  \\\n",
              "0   1  Rick Sanchez  Alive   Human         Male   \n",
              "1   2   Morty Smith  Alive   Human         Male   \n",
              "2   3  Summer Smith  Alive   Human       Female   \n",
              "3   4    Beth Smith  Alive   Human       Female   \n",
              "4   5   Jerry Smith  Alive   Human         Male   \n",
              "\n",
              "                                              origin  \\\n",
              "0  {'name': 'Earth (C-137)', 'url': 'https://rick...   \n",
              "1                     {'name': 'unknown', 'url': ''}   \n",
              "2  {'name': 'Earth (Replacement Dimension)', 'url...   \n",
              "3  {'name': 'Earth (Replacement Dimension)', 'url...   \n",
              "4  {'name': 'Earth (Replacement Dimension)', 'url...   \n",
              "\n",
              "                                            location  \\\n",
              "0  {'name': 'Citadel of Ricks', 'url': 'https://r...   \n",
              "1  {'name': 'Citadel of Ricks', 'url': 'https://r...   \n",
              "2  {'name': 'Earth (Replacement Dimension)', 'url...   \n",
              "3  {'name': 'Earth (Replacement Dimension)', 'url...   \n",
              "4  {'name': 'Earth (Replacement Dimension)', 'url...   \n",
              "\n",
              "                                               image  \\\n",
              "0  https://rickandmortyapi.com/api/character/avat...   \n",
              "1  https://rickandmortyapi.com/api/character/avat...   \n",
              "2  https://rickandmortyapi.com/api/character/avat...   \n",
              "3  https://rickandmortyapi.com/api/character/avat...   \n",
              "4  https://rickandmortyapi.com/api/character/avat...   \n",
              "\n",
              "                                             episode  \\\n",
              "0  [https://rickandmortyapi.com/api/episode/1, ht...   \n",
              "1  [https://rickandmortyapi.com/api/episode/1, ht...   \n",
              "2  [https://rickandmortyapi.com/api/episode/6, ht...   \n",
              "3  [https://rickandmortyapi.com/api/episode/6, ht...   \n",
              "4  [https://rickandmortyapi.com/api/episode/6, ht...   \n",
              "\n",
              "                                           url                   created  \n",
              "0  https://rickandmortyapi.com/api/character/1  2017-11-04T18:48:46.250Z  \n",
              "1  https://rickandmortyapi.com/api/character/2  2017-11-04T18:50:21.651Z  \n",
              "2  https://rickandmortyapi.com/api/character/3  2017-11-04T19:09:56.428Z  \n",
              "3  https://rickandmortyapi.com/api/character/4  2017-11-04T19:22:43.665Z  \n",
              "4  https://rickandmortyapi.com/api/character/5  2017-11-04T19:26:56.301Z  "
            ],
            "text/html": [
              "\n",
              "  <div id=\"df-b505929f-0c85-4a70-8cc3-04192f608fae\" class=\"colab-df-container\">\n",
              "    <div>\n",
              "<style scoped>\n",
              "    .dataframe tbody tr th:only-of-type {\n",
              "        vertical-align: middle;\n",
              "    }\n",
              "\n",
              "    .dataframe tbody tr th {\n",
              "        vertical-align: top;\n",
              "    }\n",
              "\n",
              "    .dataframe thead th {\n",
              "        text-align: right;\n",
              "    }\n",
              "</style>\n",
              "<table border=\"1\" class=\"dataframe\">\n",
              "  <thead>\n",
              "    <tr style=\"text-align: right;\">\n",
              "      <th></th>\n",
              "      <th>id</th>\n",
              "      <th>name</th>\n",
              "      <th>status</th>\n",
              "      <th>species</th>\n",
              "      <th>type</th>\n",
              "      <th>gender</th>\n",
              "      <th>origin</th>\n",
              "      <th>location</th>\n",
              "      <th>image</th>\n",
              "      <th>episode</th>\n",
              "      <th>url</th>\n",
              "      <th>created</th>\n",
              "    </tr>\n",
              "  </thead>\n",
              "  <tbody>\n",
              "    <tr>\n",
              "      <th>0</th>\n",
              "      <td>1</td>\n",
              "      <td>Rick Sanchez</td>\n",
              "      <td>Alive</td>\n",
              "      <td>Human</td>\n",
              "      <td></td>\n",
              "      <td>Male</td>\n",
              "      <td>{'name': 'Earth (C-137)', 'url': 'https://rick...</td>\n",
              "      <td>{'name': 'Citadel of Ricks', 'url': 'https://r...</td>\n",
              "      <td>https://rickandmortyapi.com/api/character/avat...</td>\n",
              "      <td>[https://rickandmortyapi.com/api/episode/1, ht...</td>\n",
              "      <td>https://rickandmortyapi.com/api/character/1</td>\n",
              "      <td>2017-11-04T18:48:46.250Z</td>\n",
              "    </tr>\n",
              "    <tr>\n",
              "      <th>1</th>\n",
              "      <td>2</td>\n",
              "      <td>Morty Smith</td>\n",
              "      <td>Alive</td>\n",
              "      <td>Human</td>\n",
              "      <td></td>\n",
              "      <td>Male</td>\n",
              "      <td>{'name': 'unknown', 'url': ''}</td>\n",
              "      <td>{'name': 'Citadel of Ricks', 'url': 'https://r...</td>\n",
              "      <td>https://rickandmortyapi.com/api/character/avat...</td>\n",
              "      <td>[https://rickandmortyapi.com/api/episode/1, ht...</td>\n",
              "      <td>https://rickandmortyapi.com/api/character/2</td>\n",
              "      <td>2017-11-04T18:50:21.651Z</td>\n",
              "    </tr>\n",
              "    <tr>\n",
              "      <th>2</th>\n",
              "      <td>3</td>\n",
              "      <td>Summer Smith</td>\n",
              "      <td>Alive</td>\n",
              "      <td>Human</td>\n",
              "      <td></td>\n",
              "      <td>Female</td>\n",
              "      <td>{'name': 'Earth (Replacement Dimension)', 'url...</td>\n",
              "      <td>{'name': 'Earth (Replacement Dimension)', 'url...</td>\n",
              "      <td>https://rickandmortyapi.com/api/character/avat...</td>\n",
              "      <td>[https://rickandmortyapi.com/api/episode/6, ht...</td>\n",
              "      <td>https://rickandmortyapi.com/api/character/3</td>\n",
              "      <td>2017-11-04T19:09:56.428Z</td>\n",
              "    </tr>\n",
              "    <tr>\n",
              "      <th>3</th>\n",
              "      <td>4</td>\n",
              "      <td>Beth Smith</td>\n",
              "      <td>Alive</td>\n",
              "      <td>Human</td>\n",
              "      <td></td>\n",
              "      <td>Female</td>\n",
              "      <td>{'name': 'Earth (Replacement Dimension)', 'url...</td>\n",
              "      <td>{'name': 'Earth (Replacement Dimension)', 'url...</td>\n",
              "      <td>https://rickandmortyapi.com/api/character/avat...</td>\n",
              "      <td>[https://rickandmortyapi.com/api/episode/6, ht...</td>\n",
              "      <td>https://rickandmortyapi.com/api/character/4</td>\n",
              "      <td>2017-11-04T19:22:43.665Z</td>\n",
              "    </tr>\n",
              "    <tr>\n",
              "      <th>4</th>\n",
              "      <td>5</td>\n",
              "      <td>Jerry Smith</td>\n",
              "      <td>Alive</td>\n",
              "      <td>Human</td>\n",
              "      <td></td>\n",
              "      <td>Male</td>\n",
              "      <td>{'name': 'Earth (Replacement Dimension)', 'url...</td>\n",
              "      <td>{'name': 'Earth (Replacement Dimension)', 'url...</td>\n",
              "      <td>https://rickandmortyapi.com/api/character/avat...</td>\n",
              "      <td>[https://rickandmortyapi.com/api/episode/6, ht...</td>\n",
              "      <td>https://rickandmortyapi.com/api/character/5</td>\n",
              "      <td>2017-11-04T19:26:56.301Z</td>\n",
              "    </tr>\n",
              "  </tbody>\n",
              "</table>\n",
              "</div>\n",
              "    <div class=\"colab-df-buttons\">\n",
              "\n",
              "  <div class=\"colab-df-container\">\n",
              "    <button class=\"colab-df-convert\" onclick=\"convertToInteractive('df-b505929f-0c85-4a70-8cc3-04192f608fae')\"\n",
              "            title=\"Convert this dataframe to an interactive table.\"\n",
              "            style=\"display:none;\">\n",
              "\n",
              "  <svg xmlns=\"http://www.w3.org/2000/svg\" height=\"24px\" viewBox=\"0 -960 960 960\">\n",
              "    <path d=\"M120-120v-720h720v720H120Zm60-500h600v-160H180v160Zm220 220h160v-160H400v160Zm0 220h160v-160H400v160ZM180-400h160v-160H180v160Zm440 0h160v-160H620v160ZM180-180h160v-160H180v160Zm440 0h160v-160H620v160Z\"/>\n",
              "  </svg>\n",
              "    </button>\n",
              "\n",
              "  <style>\n",
              "    .colab-df-container {\n",
              "      display:flex;\n",
              "      gap: 12px;\n",
              "    }\n",
              "\n",
              "    .colab-df-convert {\n",
              "      background-color: #E8F0FE;\n",
              "      border: none;\n",
              "      border-radius: 50%;\n",
              "      cursor: pointer;\n",
              "      display: none;\n",
              "      fill: #1967D2;\n",
              "      height: 32px;\n",
              "      padding: 0 0 0 0;\n",
              "      width: 32px;\n",
              "    }\n",
              "\n",
              "    .colab-df-convert:hover {\n",
              "      background-color: #E2EBFA;\n",
              "      box-shadow: 0px 1px 2px rgba(60, 64, 67, 0.3), 0px 1px 3px 1px rgba(60, 64, 67, 0.15);\n",
              "      fill: #174EA6;\n",
              "    }\n",
              "\n",
              "    .colab-df-buttons div {\n",
              "      margin-bottom: 4px;\n",
              "    }\n",
              "\n",
              "    [theme=dark] .colab-df-convert {\n",
              "      background-color: #3B4455;\n",
              "      fill: #D2E3FC;\n",
              "    }\n",
              "\n",
              "    [theme=dark] .colab-df-convert:hover {\n",
              "      background-color: #434B5C;\n",
              "      box-shadow: 0px 1px 3px 1px rgba(0, 0, 0, 0.15);\n",
              "      filter: drop-shadow(0px 1px 2px rgba(0, 0, 0, 0.3));\n",
              "      fill: #FFFFFF;\n",
              "    }\n",
              "  </style>\n",
              "\n",
              "    <script>\n",
              "      const buttonEl =\n",
              "        document.querySelector('#df-b505929f-0c85-4a70-8cc3-04192f608fae button.colab-df-convert');\n",
              "      buttonEl.style.display =\n",
              "        google.colab.kernel.accessAllowed ? 'block' : 'none';\n",
              "\n",
              "      async function convertToInteractive(key) {\n",
              "        const element = document.querySelector('#df-b505929f-0c85-4a70-8cc3-04192f608fae');\n",
              "        const dataTable =\n",
              "          await google.colab.kernel.invokeFunction('convertToInteractive',\n",
              "                                                    [key], {});\n",
              "        if (!dataTable) return;\n",
              "\n",
              "        const docLinkHtml = 'Like what you see? Visit the ' +\n",
              "          '<a target=\"_blank\" href=https://colab.research.google.com/notebooks/data_table.ipynb>data table notebook</a>'\n",
              "          + ' to learn more about interactive tables.';\n",
              "        element.innerHTML = '';\n",
              "        dataTable['output_type'] = 'display_data';\n",
              "        await google.colab.output.renderOutput(dataTable, element);\n",
              "        const docLink = document.createElement('div');\n",
              "        docLink.innerHTML = docLinkHtml;\n",
              "        element.appendChild(docLink);\n",
              "      }\n",
              "    </script>\n",
              "  </div>\n",
              "\n",
              "\n",
              "<div id=\"df-ce64d4d9-43cc-471a-a4a3-e9a70c16b169\">\n",
              "  <button class=\"colab-df-quickchart\" onclick=\"quickchart('df-ce64d4d9-43cc-471a-a4a3-e9a70c16b169')\"\n",
              "            title=\"Suggest charts.\"\n",
              "            style=\"display:none;\">\n",
              "\n",
              "<svg xmlns=\"http://www.w3.org/2000/svg\" height=\"24px\"viewBox=\"0 0 24 24\"\n",
              "     width=\"24px\">\n",
              "    <g>\n",
              "        <path d=\"M19 3H5c-1.1 0-2 .9-2 2v14c0 1.1.9 2 2 2h14c1.1 0 2-.9 2-2V5c0-1.1-.9-2-2-2zM9 17H7v-7h2v7zm4 0h-2V7h2v10zm4 0h-2v-4h2v4z\"/>\n",
              "    </g>\n",
              "</svg>\n",
              "  </button>\n",
              "\n",
              "<style>\n",
              "  .colab-df-quickchart {\n",
              "      --bg-color: #E8F0FE;\n",
              "      --fill-color: #1967D2;\n",
              "      --hover-bg-color: #E2EBFA;\n",
              "      --hover-fill-color: #174EA6;\n",
              "      --disabled-fill-color: #AAA;\n",
              "      --disabled-bg-color: #DDD;\n",
              "  }\n",
              "\n",
              "  [theme=dark] .colab-df-quickchart {\n",
              "      --bg-color: #3B4455;\n",
              "      --fill-color: #D2E3FC;\n",
              "      --hover-bg-color: #434B5C;\n",
              "      --hover-fill-color: #FFFFFF;\n",
              "      --disabled-bg-color: #3B4455;\n",
              "      --disabled-fill-color: #666;\n",
              "  }\n",
              "\n",
              "  .colab-df-quickchart {\n",
              "    background-color: var(--bg-color);\n",
              "    border: none;\n",
              "    border-radius: 50%;\n",
              "    cursor: pointer;\n",
              "    display: none;\n",
              "    fill: var(--fill-color);\n",
              "    height: 32px;\n",
              "    padding: 0;\n",
              "    width: 32px;\n",
              "  }\n",
              "\n",
              "  .colab-df-quickchart:hover {\n",
              "    background-color: var(--hover-bg-color);\n",
              "    box-shadow: 0 1px 2px rgba(60, 64, 67, 0.3), 0 1px 3px 1px rgba(60, 64, 67, 0.15);\n",
              "    fill: var(--button-hover-fill-color);\n",
              "  }\n",
              "\n",
              "  .colab-df-quickchart-complete:disabled,\n",
              "  .colab-df-quickchart-complete:disabled:hover {\n",
              "    background-color: var(--disabled-bg-color);\n",
              "    fill: var(--disabled-fill-color);\n",
              "    box-shadow: none;\n",
              "  }\n",
              "\n",
              "  .colab-df-spinner {\n",
              "    border: 2px solid var(--fill-color);\n",
              "    border-color: transparent;\n",
              "    border-bottom-color: var(--fill-color);\n",
              "    animation:\n",
              "      spin 1s steps(1) infinite;\n",
              "  }\n",
              "\n",
              "  @keyframes spin {\n",
              "    0% {\n",
              "      border-color: transparent;\n",
              "      border-bottom-color: var(--fill-color);\n",
              "      border-left-color: var(--fill-color);\n",
              "    }\n",
              "    20% {\n",
              "      border-color: transparent;\n",
              "      border-left-color: var(--fill-color);\n",
              "      border-top-color: var(--fill-color);\n",
              "    }\n",
              "    30% {\n",
              "      border-color: transparent;\n",
              "      border-left-color: var(--fill-color);\n",
              "      border-top-color: var(--fill-color);\n",
              "      border-right-color: var(--fill-color);\n",
              "    }\n",
              "    40% {\n",
              "      border-color: transparent;\n",
              "      border-right-color: var(--fill-color);\n",
              "      border-top-color: var(--fill-color);\n",
              "    }\n",
              "    60% {\n",
              "      border-color: transparent;\n",
              "      border-right-color: var(--fill-color);\n",
              "    }\n",
              "    80% {\n",
              "      border-color: transparent;\n",
              "      border-right-color: var(--fill-color);\n",
              "      border-bottom-color: var(--fill-color);\n",
              "    }\n",
              "    90% {\n",
              "      border-color: transparent;\n",
              "      border-bottom-color: var(--fill-color);\n",
              "    }\n",
              "  }\n",
              "</style>\n",
              "\n",
              "  <script>\n",
              "    async function quickchart(key) {\n",
              "      const quickchartButtonEl =\n",
              "        document.querySelector('#' + key + ' button');\n",
              "      quickchartButtonEl.disabled = true;  // To prevent multiple clicks.\n",
              "      quickchartButtonEl.classList.add('colab-df-spinner');\n",
              "      try {\n",
              "        const charts = await google.colab.kernel.invokeFunction(\n",
              "            'suggestCharts', [key], {});\n",
              "      } catch (error) {\n",
              "        console.error('Error during call to suggestCharts:', error);\n",
              "      }\n",
              "      quickchartButtonEl.classList.remove('colab-df-spinner');\n",
              "      quickchartButtonEl.classList.add('colab-df-quickchart-complete');\n",
              "    }\n",
              "    (() => {\n",
              "      let quickchartButtonEl =\n",
              "        document.querySelector('#df-ce64d4d9-43cc-471a-a4a3-e9a70c16b169 button');\n",
              "      quickchartButtonEl.style.display =\n",
              "        google.colab.kernel.accessAllowed ? 'block' : 'none';\n",
              "    })();\n",
              "  </script>\n",
              "</div>\n",
              "    </div>\n",
              "  </div>\n"
            ]
          },
          "metadata": {},
          "execution_count": 61
        }
      ]
    },
    {
      "cell_type": "code",
      "source": [
        "# df = pd.json_normalize(results)\n",
        "# df.head()"
      ],
      "metadata": {
        "id": "jLhZKpamKnfd"
      },
      "execution_count": null,
      "outputs": []
    },
    {
      "cell_type": "code",
      "source": [
        "df['gender'].value_counts()"
      ],
      "metadata": {
        "colab": {
          "base_uri": "https://localhost:8080/"
        },
        "id": "8k059bWbgd1k",
        "outputId": "b0a1178e-989c-4277-d838-bf45dd6c0053"
      },
      "execution_count": null,
      "outputs": [
        {
          "output_type": "execute_result",
          "data": {
            "text/plain": [
              "Male          610\n",
              "Female        148\n",
              "unknown        49\n",
              "Genderless     19\n",
              "Name: gender, dtype: int64"
            ]
          },
          "metadata": {},
          "execution_count": 63
        }
      ]
    },
    {
      "cell_type": "code",
      "source": [
        "df['status'].value_counts()"
      ],
      "metadata": {
        "colab": {
          "base_uri": "https://localhost:8080/"
        },
        "id": "cuSvWRZlg4Wo",
        "outputId": "9703838c-06a6-4f0d-c736-26ad3a90f223"
      },
      "execution_count": null,
      "outputs": [
        {
          "output_type": "execute_result",
          "data": {
            "text/plain": [
              "Alive      439\n",
              "Dead       287\n",
              "unknown    100\n",
              "Name: status, dtype: int64"
            ]
          },
          "metadata": {},
          "execution_count": 64
        }
      ]
    },
    {
      "cell_type": "code",
      "source": [
        "df['species'].value_counts().plot.bar();"
      ],
      "metadata": {
        "colab": {
          "base_uri": "https://localhost:8080/",
          "height": 569
        },
        "id": "EX9_rlYPhnft",
        "outputId": "d5c96436-0bf5-4fbe-fbed-b508242b294f"
      },
      "execution_count": null,
      "outputs": [
        {
          "output_type": "display_data",
          "data": {
            "text/plain": [
              "<Figure size 640x480 with 1 Axes>"
            ],
            "image/png": "[encoded data removed]"
          },
          "metadata": {}
        }
      ]
    }
  ]
}