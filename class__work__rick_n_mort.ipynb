{
  "nbformat": 4,
  "nbformat_minor": 0,
  "metadata": {
    "colab": {
      "provenance": [],
      "authorship_tag": "ABX9TyMap0lQrPmNsaWZ4/f3/Ahr",
      "include_colab_link": true
    },
    "kernelspec": {
      "name": "python3",
      "display_name": "Python 3"
    },
    "language_info": {
      "name": "python"
    }
  },
  "cells": [
    {
      "cell_type": "markdown",
      "metadata": {
        "id": "view-in-github",
        "colab_type": "text"
      },
      "source": [
        "<a href=\"https://colab.research.google.com/github/dmorton714/api_class_demo/blob/main/class__work__rick_n_mort.ipynb\" target=\"_parent\"><img src=\"https://colab.research.google.com/assets/colab-badge.svg\" alt=\"Open In Colab\"/></a>"
      ]
    },
    {
      "cell_type": "code",
      "execution_count": 34,
      "metadata": {
        "id": "Ok7UO36u3oAW"
      },
      "outputs": [],
      "source": [
        "import pandas as pd\n",
        "import requests\n",
        "import json\n",
        "import numpy as np\n"
      ]
    },
    {
      "cell_type": "markdown",
      "source": [
        "# Basic API call\n"
      ],
      "metadata": {
        "id": "0Z38roEHPr1g"
      }
    },
    {
      "cell_type": "markdown",
      "source": [
        "we will be pulling the rest API\n",
        "<br>\n",
        "Documentation url: https://rickandmortyapi.com/documentation/"
      ],
      "metadata": {
        "id": "ccnSxFd9feId"
      }
    },
    {
      "cell_type": "code",
      "source": [
        "url = 'https://rickandmortyapi.com/api/character'"
      ],
      "metadata": {
        "id": "_YtyWit534YA"
      },
      "execution_count": 35,
      "outputs": []
    },
    {
      "cell_type": "markdown",
      "source": [
        "Get a response from the url."
      ],
      "metadata": {
        "id": "MS791DnWMs5X"
      }
    },
    {
      "cell_type": "code",
      "source": [],
      "metadata": {
        "id": "JWzICtmVQ9Y6"
      },
      "execution_count": 35,
      "outputs": []
    },
    {
      "cell_type": "markdown",
      "source": [
        "assign the request to the variable \"r\""
      ],
      "metadata": {
        "id": "IKHsqNcQM4b8"
      }
    },
    {
      "cell_type": "code",
      "source": [],
      "metadata": {
        "id": "Vp3MBFa_Qu2b"
      },
      "execution_count": 35,
      "outputs": []
    },
    {
      "cell_type": "markdown",
      "source": [
        "Chain r to the json function.\n",
        "<br>\n",
        "Then assign this to the variable 'json'"
      ],
      "metadata": {
        "id": "rMsM366YNQm3"
      }
    },
    {
      "cell_type": "code",
      "source": [],
      "metadata": {
        "id": "FsgUvpWnQvCH"
      },
      "execution_count": 35,
      "outputs": []
    },
    {
      "cell_type": "markdown",
      "source": [
        "Using our json variable find the keys in the API"
      ],
      "metadata": {
        "id": "UdhDQsQENotF"
      }
    },
    {
      "cell_type": "code",
      "source": [],
      "metadata": {
        "id": "oHZ4oyRZQ23j"
      },
      "execution_count": 35,
      "outputs": []
    },
    {
      "cell_type": "markdown",
      "source": [
        "Using our json variable use the 'info' key"
      ],
      "metadata": {
        "id": "GWQF7vyLN8W6"
      }
    },
    {
      "cell_type": "code",
      "source": [],
      "metadata": {
        "id": "Kr0hqmuYVkb5"
      },
      "execution_count": 35,
      "outputs": []
    },
    {
      "cell_type": "markdown",
      "source": [
        "Using our json variable use the 'results' key\n",
        "<br>\n",
        "Notice anything odd?"
      ],
      "metadata": {
        "id": "9j4b5Zk9OOI9"
      }
    },
    {
      "cell_type": "code",
      "source": [],
      "metadata": {
        "id": "AVuvNsw2VpsJ"
      },
      "execution_count": 35,
      "outputs": []
    },
    {
      "cell_type": "markdown",
      "source": [
        "This will put our API into a dataframe."
      ],
      "metadata": {
        "id": "UHAH2mgKPJB2"
      }
    },
    {
      "cell_type": "code",
      "source": [
        "df = pd.json_normalize(json, ['results'])\n",
        "df.head(2)"
      ],
      "metadata": {
        "id": "dbplNNdkRJ7J",
        "colab": {
          "base_uri": "https://localhost:8080/",
          "height": 315
        },
        "outputId": "86f057d7-a033-47f9-e36d-baba8c253b06"
      },
      "execution_count": 36,
      "outputs": [
        {
          "output_type": "error",
          "ename": "NotImplementedError",
          "evalue": "ignored",
          "traceback": [
            "\u001b[0;31m---------------------------------------------------------------------------\u001b[0m",
            "\u001b[0;31mNotImplementedError\u001b[0m                       Traceback (most recent call last)",
            "\u001b[0;32m<ipython-input-36-9bc76bb4b063>\u001b[0m in \u001b[0;36m<cell line: 1>\u001b[0;34m()\u001b[0m\n\u001b[0;32m----> 1\u001b[0;31m \u001b[0mdf\u001b[0m \u001b[0;34m=\u001b[0m \u001b[0mpd\u001b[0m\u001b[0;34m.\u001b[0m\u001b[0mjson_normalize\u001b[0m\u001b[0;34m(\u001b[0m\u001b[0mjson\u001b[0m\u001b[0;34m,\u001b[0m \u001b[0;34m[\u001b[0m\u001b[0;34m'results'\u001b[0m\u001b[0;34m]\u001b[0m\u001b[0;34m)\u001b[0m\u001b[0;34m\u001b[0m\u001b[0;34m\u001b[0m\u001b[0m\n\u001b[0m\u001b[1;32m      2\u001b[0m \u001b[0mdf\u001b[0m\u001b[0;34m.\u001b[0m\u001b[0mhead\u001b[0m\u001b[0;34m(\u001b[0m\u001b[0;36m2\u001b[0m\u001b[0;34m)\u001b[0m\u001b[0;34m\u001b[0m\u001b[0;34m\u001b[0m\u001b[0m\n",
            "\u001b[0;32m/usr/local/lib/python3.10/dist-packages/pandas/io/json/_normalize.py\u001b[0m in \u001b[0;36m_json_normalize\u001b[0;34m(data, record_path, meta, meta_prefix, record_prefix, errors, sep, max_level)\u001b[0m\n\u001b[1;32m    444\u001b[0m         \u001b[0mdata\u001b[0m \u001b[0;34m=\u001b[0m \u001b[0mlist\u001b[0m\u001b[0;34m(\u001b[0m\u001b[0mdata\u001b[0m\u001b[0;34m)\u001b[0m\u001b[0;34m\u001b[0m\u001b[0;34m\u001b[0m\u001b[0m\n\u001b[1;32m    445\u001b[0m     \u001b[0;32melse\u001b[0m\u001b[0;34m:\u001b[0m\u001b[0;34m\u001b[0m\u001b[0;34m\u001b[0m\u001b[0m\n\u001b[0;32m--> 446\u001b[0;31m         \u001b[0;32mraise\u001b[0m \u001b[0mNotImplementedError\u001b[0m\u001b[0;34m\u001b[0m\u001b[0;34m\u001b[0m\u001b[0m\n\u001b[0m\u001b[1;32m    447\u001b[0m \u001b[0;34m\u001b[0m\u001b[0m\n\u001b[1;32m    448\u001b[0m     \u001b[0;31m# check to see if a simple recursive function is possible to\u001b[0m\u001b[0;34m\u001b[0m\u001b[0;34m\u001b[0m\u001b[0m\n",
            "\u001b[0;31mNotImplementedError\u001b[0m: "
          ]
        }
      ]
    },
    {
      "cell_type": "markdown",
      "source": [
        "Displays the size of the data frame."
      ],
      "metadata": {
        "id": "cPsKJxtRPWC6"
      }
    },
    {
      "cell_type": "code",
      "source": [
        "df.shape"
      ],
      "metadata": {
        "id": "NnONvuhFTxim"
      },
      "execution_count": null,
      "outputs": []
    },
    {
      "cell_type": "markdown",
      "source": [
        "# API Pagination"
      ],
      "metadata": {
        "id": "OnN6BS_ZPyUn"
      }
    },
    {
      "cell_type": "code",
      "source": [
        "# like above we will set some variables to work with.\n",
        "url = 'https://rickandmortyapi.com/api/character'\n",
        "results = []\n",
        "page = 1\n",
        "\n",
        "# we will have to make a while loop to paginate through the API\n",
        "\n",
        "while True:\n",
        "\n",
        "\n",
        "    if\n",
        "\n",
        "    else:\n",
        "        break\n",
        "\n",
        "df = pd.DataFrame(results)\n",
        "df.shape"
      ],
      "metadata": {
        "id": "GYsolvG5XD5C"
      },
      "execution_count": null,
      "outputs": []
    },
    {
      "cell_type": "code",
      "source": [
        "df.head()"
      ],
      "metadata": {
        "id": "-ucFL8k9enKk"
      },
      "execution_count": null,
      "outputs": []
    },
    {
      "cell_type": "markdown",
      "source": [
        "Find the counts of the various genders."
      ],
      "metadata": {
        "id": "GKBJgd06QqDF"
      }
    },
    {
      "cell_type": "code",
      "source": [],
      "metadata": {
        "id": "8k059bWbgd1k"
      },
      "execution_count": null,
      "outputs": []
    },
    {
      "cell_type": "markdown",
      "source": [
        "Find the counts of the character status"
      ],
      "metadata": {
        "id": "2q0erZO9Q0yn"
      }
    },
    {
      "cell_type": "code",
      "source": [],
      "metadata": {
        "id": "cuSvWRZlg4Wo"
      },
      "execution_count": null,
      "outputs": []
    },
    {
      "cell_type": "markdown",
      "source": [
        "Find the counts of the character species.\n",
        "<br>\n",
        "Then plot them in a bar graph."
      ],
      "metadata": {
        "id": "PDnquw15RGoU"
      }
    },
    {
      "cell_type": "code",
      "source": [],
      "metadata": {
        "id": "EX9_rlYPhnft"
      },
      "execution_count": null,
      "outputs": []
    }
  ]
}